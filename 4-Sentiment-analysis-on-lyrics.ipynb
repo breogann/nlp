{
 "cells": [
  {
   "cell_type": "markdown",
   "id": "universal-sponsorship",
   "metadata": {},
   "source": [
    " # <center> 4th goal: cleaning and sentiment analysis of the lyrics</center>"
   ]
  },
  {
   "cell_type": "markdown",
   "id": "aging-lewis",
   "metadata": {},
   "source": [
    "# 0. Import"
   ]
  },
  {
   "cell_type": "code",
   "execution_count": 10,
   "id": "furnished-production",
   "metadata": {},
   "outputs": [],
   "source": [
    "#!pip3 install nltk\n",
    "#!pip3 install textblob\n",
    "\n",
    "\n",
    "#!pip3 install spaCy\n",
    "#!pip3 install gensim\n",
    "#!pip3 install pattern\n",
    "\n",
    "#!pip3 install speechrecognition\n",
    "\n",
    "#!pip3 install https://github.com/explosion/spacy-models/releases/download/en_core_web_sm-2.2.0/en_core_web_sm-2.2.0.tar.gz\n",
    "\n",
    "#!pip3 install speechrecognition\n",
    "#!brew install portaudio\n",
    "#!pip3 install pyaudio"
   ]
  },
  {
   "cell_type": "code",
   "execution_count": 35,
   "id": "noticed-sleeve",
   "metadata": {},
   "outputs": [
    {
     "ename": "ModuleNotFoundError",
     "evalue": "No module named 'nltk'",
     "output_type": "error",
     "traceback": [
      "\u001b[0;31m-----------------------------------------------------------------------\u001b[0m",
      "\u001b[0;31mModuleNotFoundError\u001b[0m                   Traceback (most recent call last)",
      "\u001b[0;32m<ipython-input-35-760ad4c33b09>\u001b[0m in \u001b[0;36m<module>\u001b[0;34m\u001b[0m\n\u001b[1;32m      1\u001b[0m \u001b[0;32mimport\u001b[0m \u001b[0mre\u001b[0m\u001b[0;34m\u001b[0m\u001b[0;34m\u001b[0m\u001b[0m\n\u001b[0;32m----> 2\u001b[0;31m \u001b[0;32mimport\u001b[0m \u001b[0mnltk\u001b[0m\u001b[0;34m\u001b[0m\u001b[0;34m\u001b[0m\u001b[0m\n\u001b[0m",
      "\u001b[0;31mModuleNotFoundError\u001b[0m: No module named 'nltk'"
     ]
    }
   ],
   "source": [
    "import re\n",
    "import nltk"
   ]
  },
  {
   "cell_type": "code",
   "execution_count": 15,
   "id": "cutting-necklace",
   "metadata": {},
   "outputs": [
    {
     "ename": "ModuleNotFoundError",
     "evalue": "No module named 'nltk'",
     "output_type": "error",
     "traceback": [
      "\u001b[0;31m-----------------------------------------------------------------------\u001b[0m",
      "\u001b[0;31mModuleNotFoundError\u001b[0m                   Traceback (most recent call last)",
      "\u001b[0;32m<ipython-input-15-5fcb574d7093>\u001b[0m in \u001b[0;36m<module>\u001b[0;34m\u001b[0m\n\u001b[1;32m      2\u001b[0m \u001b[0;34m\u001b[0m\u001b[0m\n\u001b[1;32m      3\u001b[0m \u001b[0;31m#NLTK\u001b[0m\u001b[0;34m\u001b[0m\u001b[0;34m\u001b[0m\u001b[0;34m\u001b[0m\u001b[0m\n\u001b[0;32m----> 4\u001b[0;31m \u001b[0;32mimport\u001b[0m \u001b[0mnltk\u001b[0m\u001b[0;34m\u001b[0m\u001b[0;34m\u001b[0m\u001b[0m\n\u001b[0m\u001b[1;32m      5\u001b[0m \u001b[0;32mfrom\u001b[0m \u001b[0mnltk\u001b[0m\u001b[0;34m.\u001b[0m\u001b[0msentiment\u001b[0m\u001b[0;34m.\u001b[0m\u001b[0mvader\u001b[0m \u001b[0;32mimport\u001b[0m \u001b[0mSentimentIntensityAnalyzer\u001b[0m\u001b[0;34m\u001b[0m\u001b[0;34m\u001b[0m\u001b[0m\n\u001b[1;32m      6\u001b[0m \u001b[0;32mfrom\u001b[0m \u001b[0mnltk\u001b[0m\u001b[0;34m.\u001b[0m\u001b[0mtokenize\u001b[0m \u001b[0;32mimport\u001b[0m \u001b[0mRegexpTokenizer\u001b[0m\u001b[0;34m\u001b[0m\u001b[0;34m\u001b[0m\u001b[0m\n",
      "\u001b[0;31mModuleNotFoundError\u001b[0m: No module named 'nltk'"
     ]
    }
   ],
   "source": [
    "import pandas as pd\n",
    "\n",
    "#NLTK\n",
    "import nltk\n",
    "from nltk.sentiment.vader import SentimentIntensityAnalyzer\n",
    "from nltk.tokenize import RegexpTokenizer\n",
    "from nltk.corpus import stopwords\n",
    "\n",
    "#TextBlob\n",
    "from textblob import TextBlob\n",
    "\n",
    "#SpaCy\n",
    "import spacy\n",
    "from spacy import displacy\n",
    "\n",
    "#Others\n",
    "import en_core_web_sm\n",
    "\n",
    "import speech_recognition as sr \n",
    "import pyaudio"
   ]
  },
  {
   "cell_type": "markdown",
   "id": "spiritual-fossil",
   "metadata": {},
   "source": [
    "#### 3.1. NLTK\n",
    "#### 3.2. TextBlob1\n",
    "## 4. Frequency\n",
    "### 4.1. Tokenization"
   ]
  },
  {
   "cell_type": "markdown",
   "id": "vocational-louisiana",
   "metadata": {},
   "source": [
    "# 1. Cleaning: keeping just the important things"
   ]
  },
  {
   "cell_type": "code",
   "execution_count": 59,
   "id": "suburban-closure",
   "metadata": {},
   "outputs": [
    {
     "data": {
      "text/html": [
       "<div>\n",
       "<style scoped>\n",
       "    .dataframe tbody tr th:only-of-type {\n",
       "        vertical-align: middle;\n",
       "    }\n",
       "\n",
       "    .dataframe tbody tr th {\n",
       "        vertical-align: top;\n",
       "    }\n",
       "\n",
       "    .dataframe thead th {\n",
       "        text-align: right;\n",
       "    }\n",
       "</style>\n",
       "<table border=\"1\" class=\"dataframe\">\n",
       "  <thead>\n",
       "    <tr style=\"text-align: right;\">\n",
       "      <th></th>\n",
       "      <th>cancion</th>\n",
       "      <th>artista</th>\n",
       "      <th>letra</th>\n",
       "    </tr>\n",
       "  </thead>\n",
       "  <tbody>\n",
       "    <tr>\n",
       "      <th>0</th>\n",
       "      <td>Mi danza (feat. Dani de Morón)</td>\n",
       "      <td>Fuel Fandango</td>\n",
       "      <td>{'title': 'Fuel Fandango – Mi Danza Lyrics', '...</td>\n",
       "    </tr>\n",
       "    <tr>\n",
       "      <th>1</th>\n",
       "      <td>MERICHANE</td>\n",
       "      <td>Zahara</td>\n",
       "      <td>{'title': 'Zahara (ESP) – MERICHANE Lyrics', '...</td>\n",
       "    </tr>\n",
       "    <tr>\n",
       "      <th>2</th>\n",
       "      <td>Olaf el vikingo</td>\n",
       "      <td>LOS NIKIS</td>\n",
       "      <td>{'title': 'Los Nikis – Olaf el vikingo Lyrics'...</td>\n",
       "    </tr>\n",
       "    <tr>\n",
       "      <th>3</th>\n",
       "      <td>So So</td>\n",
       "      <td>Rusowsky</td>\n",
       "      <td>{'title': 'Saba – So and So Lyrics', 'lyrics':...</td>\n",
       "    </tr>\n",
       "    <tr>\n",
       "      <th>4</th>\n",
       "      <td>WTF Is In My Cup</td>\n",
       "      <td>Chico Blanco</td>\n",
       "      <td>{'title': 'Chico Blanco – WTF Is In My Cup Lyr...</td>\n",
       "    </tr>\n",
       "  </tbody>\n",
       "</table>\n",
       "</div>"
      ],
      "text/plain": [
       "                          cancion        artista  \\\n",
       "0  Mi danza (feat. Dani de Morón)  Fuel Fandango   \n",
       "1                       MERICHANE         Zahara   \n",
       "2                 Olaf el vikingo      LOS NIKIS   \n",
       "3                           So So       Rusowsky   \n",
       "4                WTF Is In My Cup   Chico Blanco   \n",
       "\n",
       "                                               letra  \n",
       "0  {'title': 'Fuel Fandango – Mi Danza Lyrics', '...  \n",
       "1  {'title': 'Zahara (ESP) – MERICHANE Lyrics', '...  \n",
       "2  {'title': 'Los Nikis – Olaf el vikingo Lyrics'...  \n",
       "3  {'title': 'Saba – So and So Lyrics', 'lyrics':...  \n",
       "4  {'title': 'Chico Blanco – WTF Is In My Cup Lyr...  "
      ]
     },
     "execution_count": 59,
     "metadata": {},
     "output_type": "execute_result"
    }
   ],
   "source": [
    "import pandas as pd\n",
    "df = pd.read_csv(\"output/letras.csv\")\n",
    "df.head()"
   ]
  },
  {
   "cell_type": "code",
   "execution_count": 60,
   "id": "simple-welding",
   "metadata": {},
   "outputs": [
    {
     "data": {
      "text/plain": [
       "'{\\'title\\': \\'Fuel Fandango – Mi Danza Lyrics\\', \\'lyrics\\': \\'[Letra de \"Mi Danza\"]\\\\n\\\\n[Verso 1]\\\\nDeja que la vida brote\\\\nDonde menos te lo esperas\\\\nDeja que se abra camino\\\\nY trepe como\\\\u2005enredadera\\\\nDeja\\\\u2005que me lleve\\\\u2005el aire\\\\nHacia un futuro nuevo\\\\nDeja que\\\\u2005vuelva al origen\\\\nY que desaparezca el miedo\\\\n\\\\n[Estribillo]\\\\nQue empiece la parranda\\\\nEl jaleo que me abraza (Olé, chiquilla)\\\\nEste compás que arrasa\\\\nMi danza, mi danza, mi danza\\\\nEl jaleo que me abraza\\\\nMi danza, mi danza, mi danza, mi danza\\\\n\\\\n[Verso 2]\\\\nDeja mis semillas brotar, brillar\\\\nYa no soy como era\\\\nAbro la puerta de par en par\\\\nCantaré hasta el día que me muera\\\\nDeja que me salgan alas\\\\nDéjame volar del nido\\\\nDeja que vuelva al origen\\\\nY que desaparezca el miedo\\\\n[Estribillo]\\\\nQue empiece la parranda\\\\nEl jaleo que me abraza (Olé, chiquilla)\\\\nEste compás que arrasa\\\\nMi danza, mi danza, mi danza\\\\nEl jaleo que me abraza\\\\nMi danza, mi danza, mi danza\\\\n\\\\n[Puente]\\\\nQuiero volver a ver\\\\nMi piel bailando en el río\\\\nDéjame vivir sencilla\\\\nO vete por donde has venido\\\\n\\\\n[Estribillo]\\\\nQue empiece la parranda\\\\nEl jaleo que me abraza (Olé, chiquilla)\\\\nEste compás que arrasa\\\\nMi danza, mi danza, mi danza\\\\nEl jaleo que me abraza\\\\nMi danza, mi danza, mi danza\\'}'"
      ]
     },
     "execution_count": 60,
     "metadata": {},
     "output_type": "execute_result"
    }
   ],
   "source": [
    "df.letra.iloc[0]['lyrics']"
   ]
  },
  {
   "cell_type": "code",
   "execution_count": 57,
   "id": "frequent-garden",
   "metadata": {},
   "outputs": [
    {
     "data": {
      "text/html": [
       "<div>\n",
       "<style scoped>\n",
       "    .dataframe tbody tr th:only-of-type {\n",
       "        vertical-align: middle;\n",
       "    }\n",
       "\n",
       "    .dataframe tbody tr th {\n",
       "        vertical-align: top;\n",
       "    }\n",
       "\n",
       "    .dataframe thead th {\n",
       "        text-align: right;\n",
       "    }\n",
       "</style>\n",
       "<table border=\"1\" class=\"dataframe\">\n",
       "  <thead>\n",
       "    <tr style=\"text-align: right;\">\n",
       "      <th></th>\n",
       "      <th>cancion</th>\n",
       "      <th>artista</th>\n",
       "      <th>letra</th>\n",
       "    </tr>\n",
       "  </thead>\n",
       "  <tbody>\n",
       "    <tr>\n",
       "      <th>0</th>\n",
       "      <td>Mi danza (feat. Dani de Morón)</td>\n",
       "      <td>Fuel Fandango</td>\n",
       "      <td>'[Letra de \"Mi Danza\"]\\n\\n[Verso 1]\\nDeja que...</td>\n",
       "    </tr>\n",
       "    <tr>\n",
       "      <th>1</th>\n",
       "      <td>MERICHANE</td>\n",
       "      <td>Zahara</td>\n",
       "      <td>'[Letra de \"MERICHANE\"]\\n\\n[Estrofa 1]\\nYo es...</td>\n",
       "    </tr>\n",
       "    <tr>\n",
       "      <th>2</th>\n",
       "      <td>Olaf el vikingo</td>\n",
       "      <td>LOS NIKIS</td>\n",
       "      <td>'Todos en la tribu le tienen miedo\\nOlaf el v...</td>\n",
       "    </tr>\n",
       "    <tr>\n",
       "      <th>3</th>\n",
       "      <td>So So</td>\n",
       "      <td>Rusowsky</td>\n",
       "      <td>\"[Intro]\\nFl-Fl-Flex Lennon\\n\\n[Chorus]\\nProp...</td>\n",
       "    </tr>\n",
       "    <tr>\n",
       "      <th>4</th>\n",
       "      <td>WTF Is In My Cup</td>\n",
       "      <td>Chico Blanco</td>\n",
       "      <td>'[Letra de \"WTF Is In My Cup\"]\\n\\n[Estribillo...</td>\n",
       "    </tr>\n",
       "  </tbody>\n",
       "</table>\n",
       "</div>"
      ],
      "text/plain": [
       "                          cancion        artista  \\\n",
       "0  Mi danza (feat. Dani de Morón)  Fuel Fandango   \n",
       "1                       MERICHANE         Zahara   \n",
       "2                 Olaf el vikingo      LOS NIKIS   \n",
       "3                           So So       Rusowsky   \n",
       "4                WTF Is In My Cup   Chico Blanco   \n",
       "\n",
       "                                               letra  \n",
       "0   '[Letra de \"Mi Danza\"]\\n\\n[Verso 1]\\nDeja que...  \n",
       "1   '[Letra de \"MERICHANE\"]\\n\\n[Estrofa 1]\\nYo es...  \n",
       "2   'Todos en la tribu le tienen miedo\\nOlaf el v...  \n",
       "3   \"[Intro]\\nFl-Fl-Flex Lennon\\n\\n[Chorus]\\nProp...  \n",
       "4   '[Letra de \"WTF Is In My Cup\"]\\n\\n[Estribillo...  "
      ]
     },
     "execution_count": 57,
     "metadata": {},
     "output_type": "execute_result"
    }
   ],
   "source": [
    "df.letra = df.letra.apply(lambda x: x.split(\"\\'lyrics\\':\")[1])\n",
    "df.head()"
   ]
  },
  {
   "cell_type": "code",
   "execution_count": null,
   "id": "legislative-blair",
   "metadata": {},
   "outputs": [],
   "source": [
    "nltk.download('vader_lexicon')\n",
    "nltk.download('punkt')\n",
    "nltk.download('stopwords')"
   ]
  },
  {
   "cell_type": "markdown",
   "id": "handmade-queens",
   "metadata": {},
   "source": [
    "# 2. Analysis"
   ]
  },
  {
   "cell_type": "code",
   "execution_count": null,
   "id": "polar-banks",
   "metadata": {},
   "outputs": [],
   "source": [
    "def sentimentAnalysis(sentence):\n",
    "    sia = SentimentIntensityAnalyzer()\n",
    "    polarity = sia.polarity_scores(sentence)\n",
    "    return polarity"
   ]
  },
  {
   "cell_type": "code",
   "execution_count": 61,
   "id": "small-passage",
   "metadata": {},
   "outputs": [
    {
     "ename": "SyntaxError",
     "evalue": "invalid syntax (<ipython-input-61-e5f7c939ebb0>, line 3)",
     "output_type": "error",
     "traceback": [
      "\u001b[0;36m  File \u001b[0;32m\"<ipython-input-61-e5f7c939ebb0>\"\u001b[0;36m, line \u001b[0;32m3\u001b[0m\n\u001b[0;31m    **What we did**\u001b[0m\n\u001b[0m    ^\u001b[0m\n\u001b[0;31mSyntaxError\u001b[0m\u001b[0;31m:\u001b[0m invalid syntax\n"
     ]
    }
   ],
   "source": [
    "# 📚 So far:\n",
    "\n",
    "**What we did**\n",
    "- We cleaned the lyrics?\n",
    "<br>\n",
    "\n",
    "**To remember**\n",
    "\n",
    "- "
   ]
  },
  {
   "cell_type": "code",
   "execution_count": null,
   "id": "static-gross",
   "metadata": {},
   "outputs": [],
   "source": []
  }
 ],
 "metadata": {
  "kernelspec": {
   "display_name": "Python 3",
   "language": "python",
   "name": "python3"
  },
  "language_info": {
   "codemirror_mode": {
    "name": "ipython",
    "version": 3
   },
   "file_extension": ".py",
   "mimetype": "text/x-python",
   "name": "python",
   "nbconvert_exporter": "python",
   "pygments_lexer": "ipython3",
   "version": "3.9.1"
  }
 },
 "nbformat": 4,
 "nbformat_minor": 5
}
