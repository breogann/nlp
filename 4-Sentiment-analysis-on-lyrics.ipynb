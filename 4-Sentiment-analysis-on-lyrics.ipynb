{
 "cells": [
  {
   "cell_type": "markdown",
   "id": "commercial-mountain",
   "metadata": {},
   "source": [
    " # <center> 4th goal: cleaning and sentiment analysis of the lyrics</center>"
   ]
  },
  {
   "cell_type": "markdown",
   "id": "overhead-burner",
   "metadata": {},
   "source": [
    "# 0. Import"
   ]
  },
  {
   "cell_type": "code",
   "execution_count": 47,
   "id": "transsexual-cursor",
   "metadata": {},
   "outputs": [],
   "source": [
    "import pandas as pd\n",
    "\n",
    "#regex\n",
    "import re\n",
    "\n",
    "#NLTK\n",
    "import nltk\n",
    "from nltk.sentiment.vader import SentimentIntensityAnalyzer\n",
    "from nltk.tokenize import RegexpTokenizer\n",
    "from nltk.corpus import stopwords\n",
    "\n",
    "#TextBlob\n",
    "from textblob import TextBlob\n",
    "\n",
    "#SpaCy\n",
    "import spacy\n",
    "from spacy import displacy\n",
    "\n",
    "#Others\n",
    "#import speech_recognition as sr #sudo pip3 install --upgrade speechrecognition\n",
    "#import pyaudio"
   ]
  },
  {
   "cell_type": "code",
   "execution_count": 48,
   "id": "junior-captain",
   "metadata": {},
   "outputs": [],
   "source": [
    "from sentiment_analysis_spanish import sentiment_analysis #https://pypi.org/project/sentiment-analysis-spanish/"
   ]
  },
  {
   "cell_type": "markdown",
   "id": "molecular-failing",
   "metadata": {},
   "source": [
    "## 1. Some cleaning"
   ]
  },
  {
   "cell_type": "code",
   "execution_count": 49,
   "id": "suburban-closure",
   "metadata": {},
   "outputs": [
    {
     "data": {
      "text/html": [
       "<div>\n",
       "<style scoped>\n",
       "    .dataframe tbody tr th:only-of-type {\n",
       "        vertical-align: middle;\n",
       "    }\n",
       "\n",
       "    .dataframe tbody tr th {\n",
       "        vertical-align: top;\n",
       "    }\n",
       "\n",
       "    .dataframe thead th {\n",
       "        text-align: right;\n",
       "    }\n",
       "</style>\n",
       "<table border=\"1\" class=\"dataframe\">\n",
       "  <thead>\n",
       "    <tr style=\"text-align: right;\">\n",
       "      <th></th>\n",
       "      <th>ironhacker</th>\n",
       "      <th>song</th>\n",
       "      <th>artist</th>\n",
       "      <th>lyrics</th>\n",
       "    </tr>\n",
       "  </thead>\n",
       "  <tbody>\n",
       "    <tr>\n",
       "      <th>0</th>\n",
       "      <td>soyungalgo</td>\n",
       "      <td>Mi danza (feat. Dani de Morón)</td>\n",
       "      <td>Fuel Fandango</td>\n",
       "      <td>[Letra de \"Mi Danza\"]\\n\\n[Verso 1]\\nDeja que l...</td>\n",
       "    </tr>\n",
       "    <tr>\n",
       "      <th>1</th>\n",
       "      <td>soyungalgo</td>\n",
       "      <td>MERICHANE</td>\n",
       "      <td>Zahara</td>\n",
       "      <td>[Letra de \"MERICHANE\"]\\n\\n[Estrofa 1]\\nYo esta...</td>\n",
       "    </tr>\n",
       "    <tr>\n",
       "      <th>2</th>\n",
       "      <td>toni085</td>\n",
       "      <td>Olaf el vikingo</td>\n",
       "      <td>LOS NIKIS</td>\n",
       "      <td>Todos en la tribu le tienen miedo\\nOlaf el vik...</td>\n",
       "    </tr>\n",
       "    <tr>\n",
       "      <th>3</th>\n",
       "      <td>ferqwertyuiop</td>\n",
       "      <td>So So</td>\n",
       "      <td>Rusowsky</td>\n",
       "      <td>[Intro]\\nFl-Fl-Flex Lennon\\n\\n[Chorus]\\nPropos...</td>\n",
       "    </tr>\n",
       "    <tr>\n",
       "      <th>4</th>\n",
       "      <td>1182774545</td>\n",
       "      <td>WTF Is In My Cup</td>\n",
       "      <td>Chico Blanco</td>\n",
       "      <td>[Letra de \"WTF Is In My Cup\"]\\n\\n[Estribillo]\\...</td>\n",
       "    </tr>\n",
       "  </tbody>\n",
       "</table>\n",
       "</div>"
      ],
      "text/plain": [
       "      ironhacker                            song         artist  \\\n",
       "0     soyungalgo  Mi danza (feat. Dani de Morón)  Fuel Fandango   \n",
       "1     soyungalgo                       MERICHANE         Zahara   \n",
       "2        toni085                 Olaf el vikingo      LOS NIKIS   \n",
       "3  ferqwertyuiop                           So So       Rusowsky   \n",
       "4     1182774545                WTF Is In My Cup   Chico Blanco   \n",
       "\n",
       "                                              lyrics  \n",
       "0  [Letra de \"Mi Danza\"]\\n\\n[Verso 1]\\nDeja que l...  \n",
       "1  [Letra de \"MERICHANE\"]\\n\\n[Estrofa 1]\\nYo esta...  \n",
       "2  Todos en la tribu le tienen miedo\\nOlaf el vik...  \n",
       "3  [Intro]\\nFl-Fl-Flex Lennon\\n\\n[Chorus]\\nPropos...  \n",
       "4  [Letra de \"WTF Is In My Cup\"]\\n\\n[Estribillo]\\...  "
      ]
     },
     "execution_count": 49,
     "metadata": {},
     "output_type": "execute_result"
    }
   ],
   "source": [
    "df = pd.read_csv(\"output/playlist_with_lyrics.csv\")\n",
    "df.head()"
   ]
  },
  {
   "cell_type": "markdown",
   "id": "olive-minute",
   "metadata": {},
   "source": [
    "### 1.1. Remove bracketed text"
   ]
  },
  {
   "cell_type": "markdown",
   "id": "dense-management",
   "metadata": {},
   "source": [
    "#### Defining a regex pattern"
   ]
  },
  {
   "cell_type": "code",
   "execution_count": 50,
   "id": "favorite-lawrence",
   "metadata": {},
   "outputs": [],
   "source": [
    "pattern = \"\\[(.*?)\\]\"\n",
    "string = \"\"\n",
    "quitar_corchetes = re.sub(pattern, \"\", string)"
   ]
  },
  {
   "cell_type": "markdown",
   "id": "answering-dating",
   "metadata": {},
   "source": [
    "#### Making it a function"
   ]
  },
  {
   "cell_type": "code",
   "execution_count": 51,
   "id": "sexual-registration",
   "metadata": {},
   "outputs": [],
   "source": [
    "def quitar_corchetes (string):\n",
    "    pattern = \"(\\[(.*?)\\])\"\n",
    "    sin_corchetes = re.sub(pattern, \"\", string)\n",
    "    return sin_corchetes"
   ]
  },
  {
   "cell_type": "markdown",
   "id": "second-civilian",
   "metadata": {},
   "source": [
    "#### Applying it to a column"
   ]
  },
  {
   "cell_type": "code",
   "execution_count": 52,
   "id": "considered-leave",
   "metadata": {},
   "outputs": [
    {
     "data": {
      "text/html": [
       "<div>\n",
       "<style scoped>\n",
       "    .dataframe tbody tr th:only-of-type {\n",
       "        vertical-align: middle;\n",
       "    }\n",
       "\n",
       "    .dataframe tbody tr th {\n",
       "        vertical-align: top;\n",
       "    }\n",
       "\n",
       "    .dataframe thead th {\n",
       "        text-align: right;\n",
       "    }\n",
       "</style>\n",
       "<table border=\"1\" class=\"dataframe\">\n",
       "  <thead>\n",
       "    <tr style=\"text-align: right;\">\n",
       "      <th></th>\n",
       "      <th>ironhacker</th>\n",
       "      <th>song</th>\n",
       "      <th>artist</th>\n",
       "      <th>lyrics</th>\n",
       "      <th>letra sin corchetes</th>\n",
       "    </tr>\n",
       "  </thead>\n",
       "  <tbody>\n",
       "    <tr>\n",
       "      <th>0</th>\n",
       "      <td>soyungalgo</td>\n",
       "      <td>Mi danza (feat. Dani de Morón)</td>\n",
       "      <td>Fuel Fandango</td>\n",
       "      <td>[Letra de \"Mi Danza\"]\\n\\n[Verso 1]\\nDeja que l...</td>\n",
       "      <td>\\n\\n\\nDeja que la vida brote\\nDonde menos te l...</td>\n",
       "    </tr>\n",
       "    <tr>\n",
       "      <th>1</th>\n",
       "      <td>soyungalgo</td>\n",
       "      <td>MERICHANE</td>\n",
       "      <td>Zahara</td>\n",
       "      <td>[Letra de \"MERICHANE\"]\\n\\n[Estrofa 1]\\nYo esta...</td>\n",
       "      <td>\\n\\n\\nYo estaba ahí cuando todos bailaban\\nMoj...</td>\n",
       "    </tr>\n",
       "    <tr>\n",
       "      <th>2</th>\n",
       "      <td>toni085</td>\n",
       "      <td>Olaf el vikingo</td>\n",
       "      <td>LOS NIKIS</td>\n",
       "      <td>Todos en la tribu le tienen miedo\\nOlaf el vik...</td>\n",
       "      <td>Todos en la tribu le tienen miedo\\nOlaf el vik...</td>\n",
       "    </tr>\n",
       "    <tr>\n",
       "      <th>3</th>\n",
       "      <td>ferqwertyuiop</td>\n",
       "      <td>So So</td>\n",
       "      <td>Rusowsky</td>\n",
       "      <td>[Intro]\\nFl-Fl-Flex Lennon\\n\\n[Chorus]\\nPropos...</td>\n",
       "      <td>\\nFl-Fl-Flex Lennon\\n\\n\\nPropose a toast, you ...</td>\n",
       "    </tr>\n",
       "    <tr>\n",
       "      <th>4</th>\n",
       "      <td>1182774545</td>\n",
       "      <td>WTF Is In My Cup</td>\n",
       "      <td>Chico Blanco</td>\n",
       "      <td>[Letra de \"WTF Is In My Cup\"]\\n\\n[Estribillo]\\...</td>\n",
       "      <td>\\n\\n\\nWhat the fuck is in my cup? I don't even...</td>\n",
       "    </tr>\n",
       "  </tbody>\n",
       "</table>\n",
       "</div>"
      ],
      "text/plain": [
       "      ironhacker                            song         artist  \\\n",
       "0     soyungalgo  Mi danza (feat. Dani de Morón)  Fuel Fandango   \n",
       "1     soyungalgo                       MERICHANE         Zahara   \n",
       "2        toni085                 Olaf el vikingo      LOS NIKIS   \n",
       "3  ferqwertyuiop                           So So       Rusowsky   \n",
       "4     1182774545                WTF Is In My Cup   Chico Blanco   \n",
       "\n",
       "                                              lyrics  \\\n",
       "0  [Letra de \"Mi Danza\"]\\n\\n[Verso 1]\\nDeja que l...   \n",
       "1  [Letra de \"MERICHANE\"]\\n\\n[Estrofa 1]\\nYo esta...   \n",
       "2  Todos en la tribu le tienen miedo\\nOlaf el vik...   \n",
       "3  [Intro]\\nFl-Fl-Flex Lennon\\n\\n[Chorus]\\nPropos...   \n",
       "4  [Letra de \"WTF Is In My Cup\"]\\n\\n[Estribillo]\\...   \n",
       "\n",
       "                                 letra sin corchetes  \n",
       "0  \\n\\n\\nDeja que la vida brote\\nDonde menos te l...  \n",
       "1  \\n\\n\\nYo estaba ahí cuando todos bailaban\\nMoj...  \n",
       "2  Todos en la tribu le tienen miedo\\nOlaf el vik...  \n",
       "3  \\nFl-Fl-Flex Lennon\\n\\n\\nPropose a toast, you ...  \n",
       "4  \\n\\n\\nWhat the fuck is in my cup? I don't even...  "
      ]
     },
     "execution_count": 52,
     "metadata": {},
     "output_type": "execute_result"
    }
   ],
   "source": [
    "df['letra sin corchetes'] = df.lyrics.apply(quitar_corchetes)\n",
    "df.head()"
   ]
  },
  {
   "cell_type": "code",
   "execution_count": 53,
   "id": "working-plane",
   "metadata": {},
   "outputs": [],
   "source": [
    "df = df.drop(['lyrics'], axis=1)"
   ]
  },
  {
   "cell_type": "code",
   "execution_count": 54,
   "id": "expensive-finding",
   "metadata": {},
   "outputs": [
    {
     "data": {
      "text/html": [
       "<div>\n",
       "<style scoped>\n",
       "    .dataframe tbody tr th:only-of-type {\n",
       "        vertical-align: middle;\n",
       "    }\n",
       "\n",
       "    .dataframe tbody tr th {\n",
       "        vertical-align: top;\n",
       "    }\n",
       "\n",
       "    .dataframe thead th {\n",
       "        text-align: right;\n",
       "    }\n",
       "</style>\n",
       "<table border=\"1\" class=\"dataframe\">\n",
       "  <thead>\n",
       "    <tr style=\"text-align: right;\">\n",
       "      <th></th>\n",
       "      <th>ironhacker</th>\n",
       "      <th>song</th>\n",
       "      <th>artist</th>\n",
       "      <th>letra sin corchetes</th>\n",
       "    </tr>\n",
       "  </thead>\n",
       "  <tbody>\n",
       "    <tr>\n",
       "      <th>0</th>\n",
       "      <td>soyungalgo</td>\n",
       "      <td>Mi danza (feat. Dani de Morón)</td>\n",
       "      <td>Fuel Fandango</td>\n",
       "      <td>\\n\\n\\nDeja que la vida brote\\nDonde menos te l...</td>\n",
       "    </tr>\n",
       "    <tr>\n",
       "      <th>1</th>\n",
       "      <td>soyungalgo</td>\n",
       "      <td>MERICHANE</td>\n",
       "      <td>Zahara</td>\n",
       "      <td>\\n\\n\\nYo estaba ahí cuando todos bailaban\\nMoj...</td>\n",
       "    </tr>\n",
       "    <tr>\n",
       "      <th>2</th>\n",
       "      <td>toni085</td>\n",
       "      <td>Olaf el vikingo</td>\n",
       "      <td>LOS NIKIS</td>\n",
       "      <td>Todos en la tribu le tienen miedo\\nOlaf el vik...</td>\n",
       "    </tr>\n",
       "    <tr>\n",
       "      <th>3</th>\n",
       "      <td>ferqwertyuiop</td>\n",
       "      <td>So So</td>\n",
       "      <td>Rusowsky</td>\n",
       "      <td>\\nFl-Fl-Flex Lennon\\n\\n\\nPropose a toast, you ...</td>\n",
       "    </tr>\n",
       "    <tr>\n",
       "      <th>4</th>\n",
       "      <td>1182774545</td>\n",
       "      <td>WTF Is In My Cup</td>\n",
       "      <td>Chico Blanco</td>\n",
       "      <td>\\n\\n\\nWhat the fuck is in my cup? I don't even...</td>\n",
       "    </tr>\n",
       "  </tbody>\n",
       "</table>\n",
       "</div>"
      ],
      "text/plain": [
       "      ironhacker                            song         artist  \\\n",
       "0     soyungalgo  Mi danza (feat. Dani de Morón)  Fuel Fandango   \n",
       "1     soyungalgo                       MERICHANE         Zahara   \n",
       "2        toni085                 Olaf el vikingo      LOS NIKIS   \n",
       "3  ferqwertyuiop                           So So       Rusowsky   \n",
       "4     1182774545                WTF Is In My Cup   Chico Blanco   \n",
       "\n",
       "                                 letra sin corchetes  \n",
       "0  \\n\\n\\nDeja que la vida brote\\nDonde menos te l...  \n",
       "1  \\n\\n\\nYo estaba ahí cuando todos bailaban\\nMoj...  \n",
       "2  Todos en la tribu le tienen miedo\\nOlaf el vik...  \n",
       "3  \\nFl-Fl-Flex Lennon\\n\\n\\nPropose a toast, you ...  \n",
       "4  \\n\\n\\nWhat the fuck is in my cup? I don't even...  "
      ]
     },
     "execution_count": 54,
     "metadata": {},
     "output_type": "execute_result"
    }
   ],
   "source": [
    "df.head()"
   ]
  },
  {
   "cell_type": "markdown",
   "id": "sweet-engineering",
   "metadata": {},
   "source": [
    "# 2. Tokenization"
   ]
  },
  {
   "cell_type": "markdown",
   "id": "amateur-calvin",
   "metadata": {},
   "source": [
    "`RegexpTokenizer(r'\\w+')` <br>\n",
    "`tokenizer.tokenize(string)`"
   ]
  },
  {
   "cell_type": "code",
   "execution_count": 55,
   "id": "resistant-example",
   "metadata": {},
   "outputs": [
    {
     "name": "stderr",
     "output_type": "stream",
     "text": [
      "[nltk_data] Downloading package punkt to /Users/breogann/nltk_data...\n",
      "[nltk_data]   Package punkt is already up-to-date!\n"
     ]
    },
    {
     "data": {
      "text/plain": [
       "True"
      ]
     },
     "execution_count": 55,
     "metadata": {},
     "output_type": "execute_result"
    }
   ],
   "source": [
    "#Donwload tokenizer from NLTK\n",
    "nltk.download('punkt')"
   ]
  },
  {
   "cell_type": "markdown",
   "id": "simple-dealing",
   "metadata": {},
   "source": [
    "#### Tokenizing just one cell\n"
   ]
  },
  {
   "cell_type": "code",
   "execution_count": 56,
   "id": "wicked-cholesterol",
   "metadata": {},
   "outputs": [
    {
     "data": {
      "text/plain": [
       "['Deja',\n",
       " 'que',\n",
       " 'la',\n",
       " 'vida',\n",
       " 'brote',\n",
       " 'Donde',\n",
       " 'menos',\n",
       " 'te',\n",
       " 'lo',\n",
       " 'esperas',\n",
       " 'Deja',\n",
       " 'que',\n",
       " 'se',\n",
       " 'abra',\n",
       " 'camino',\n",
       " 'Y',\n",
       " 'trepe',\n",
       " 'como',\n",
       " 'enredadera',\n",
       " 'Deja',\n",
       " 'que',\n",
       " 'me',\n",
       " 'lleve',\n",
       " 'el',\n",
       " 'aire',\n",
       " 'Hacia',\n",
       " 'un',\n",
       " 'futuro',\n",
       " 'nuevo',\n",
       " 'Deja',\n",
       " 'que',\n",
       " 'vuelva',\n",
       " 'al',\n",
       " 'origen',\n",
       " 'Y',\n",
       " 'que',\n",
       " 'desaparezca',\n",
       " 'el',\n",
       " 'miedo',\n",
       " 'Que',\n",
       " 'empiece',\n",
       " 'la',\n",
       " 'parranda',\n",
       " 'El',\n",
       " 'jaleo',\n",
       " 'que',\n",
       " 'me',\n",
       " 'abraza',\n",
       " 'Olé',\n",
       " 'chiquilla',\n",
       " 'Este',\n",
       " 'compás',\n",
       " 'que',\n",
       " 'arrasa',\n",
       " 'Mi',\n",
       " 'danza',\n",
       " 'mi',\n",
       " 'danza',\n",
       " 'mi',\n",
       " 'danza',\n",
       " 'El',\n",
       " 'jaleo',\n",
       " 'que',\n",
       " 'me',\n",
       " 'abraza',\n",
       " 'Mi',\n",
       " 'danza',\n",
       " 'mi',\n",
       " 'danza',\n",
       " 'mi',\n",
       " 'danza',\n",
       " 'mi',\n",
       " 'danza',\n",
       " 'Deja',\n",
       " 'mis',\n",
       " 'semillas',\n",
       " 'brotar',\n",
       " 'brillar',\n",
       " 'Ya',\n",
       " 'no',\n",
       " 'soy',\n",
       " 'como',\n",
       " 'era',\n",
       " 'Abro',\n",
       " 'la',\n",
       " 'puerta',\n",
       " 'de',\n",
       " 'par',\n",
       " 'en',\n",
       " 'par',\n",
       " 'Cantaré',\n",
       " 'hasta',\n",
       " 'el',\n",
       " 'día',\n",
       " 'que',\n",
       " 'me',\n",
       " 'muera',\n",
       " 'Deja',\n",
       " 'que',\n",
       " 'me',\n",
       " 'salgan',\n",
       " 'alas',\n",
       " 'Déjame',\n",
       " 'volar',\n",
       " 'del',\n",
       " 'nido',\n",
       " 'Deja',\n",
       " 'que',\n",
       " 'vuelva',\n",
       " 'al',\n",
       " 'origen',\n",
       " 'Y',\n",
       " 'que',\n",
       " 'desaparezca',\n",
       " 'el',\n",
       " 'miedo',\n",
       " 'Que',\n",
       " 'empiece',\n",
       " 'la',\n",
       " 'parranda',\n",
       " 'El',\n",
       " 'jaleo',\n",
       " 'que',\n",
       " 'me',\n",
       " 'abraza',\n",
       " 'Olé',\n",
       " 'chiquilla',\n",
       " 'Este',\n",
       " 'compás',\n",
       " 'que',\n",
       " 'arrasa',\n",
       " 'Mi',\n",
       " 'danza',\n",
       " 'mi',\n",
       " 'danza',\n",
       " 'mi',\n",
       " 'danza',\n",
       " 'El',\n",
       " 'jaleo',\n",
       " 'que',\n",
       " 'me',\n",
       " 'abraza',\n",
       " 'Mi',\n",
       " 'danza',\n",
       " 'mi',\n",
       " 'danza',\n",
       " 'mi',\n",
       " 'danza',\n",
       " 'Quiero',\n",
       " 'volver',\n",
       " 'a',\n",
       " 'ver',\n",
       " 'Mi',\n",
       " 'piel',\n",
       " 'bailando',\n",
       " 'en',\n",
       " 'el',\n",
       " 'río',\n",
       " 'Déjame',\n",
       " 'vivir',\n",
       " 'sencilla',\n",
       " 'O',\n",
       " 'vete',\n",
       " 'por',\n",
       " 'donde',\n",
       " 'has',\n",
       " 'venido',\n",
       " 'Que',\n",
       " 'empiece',\n",
       " 'la',\n",
       " 'parranda',\n",
       " 'El',\n",
       " 'jaleo',\n",
       " 'que',\n",
       " 'me',\n",
       " 'abraza',\n",
       " 'Olé',\n",
       " 'chiquilla',\n",
       " 'Este',\n",
       " 'compás',\n",
       " 'que',\n",
       " 'arrasa',\n",
       " 'Mi',\n",
       " 'danza',\n",
       " 'mi',\n",
       " 'danza',\n",
       " 'mi',\n",
       " 'danza',\n",
       " 'El',\n",
       " 'jaleo',\n",
       " 'que',\n",
       " 'me',\n",
       " 'abraza',\n",
       " 'Mi',\n",
       " 'danza',\n",
       " 'mi',\n",
       " 'danza',\n",
       " 'mi',\n",
       " 'danza']"
      ]
     },
     "execution_count": 56,
     "metadata": {},
     "output_type": "execute_result"
    }
   ],
   "source": [
    "tokenizer = RegexpTokenizer(r'\\w+')\n",
    "tokens = tokenizer.tokenize(df.iloc[0]['letra sin corchetes'])\n",
    "tokens"
   ]
  },
  {
   "cell_type": "markdown",
   "id": "selective-engineering",
   "metadata": {},
   "source": [
    "#### Same but in a function"
   ]
  },
  {
   "cell_type": "code",
   "execution_count": 57,
   "id": "important-particle",
   "metadata": {},
   "outputs": [],
   "source": [
    "def tokenize (string):\n",
    "    tokenizer = RegexpTokenizer(r'\\w+')\n",
    "    tokens = tokenizer.tokenize(string)\n",
    "    return tokens"
   ]
  },
  {
   "cell_type": "code",
   "execution_count": 58,
   "id": "consolidated-circus",
   "metadata": {},
   "outputs": [
    {
     "data": {
      "text/html": [
       "<div>\n",
       "<style scoped>\n",
       "    .dataframe tbody tr th:only-of-type {\n",
       "        vertical-align: middle;\n",
       "    }\n",
       "\n",
       "    .dataframe tbody tr th {\n",
       "        vertical-align: top;\n",
       "    }\n",
       "\n",
       "    .dataframe thead th {\n",
       "        text-align: right;\n",
       "    }\n",
       "</style>\n",
       "<table border=\"1\" class=\"dataframe\">\n",
       "  <thead>\n",
       "    <tr style=\"text-align: right;\">\n",
       "      <th></th>\n",
       "      <th>ironhacker</th>\n",
       "      <th>song</th>\n",
       "      <th>artist</th>\n",
       "      <th>letra sin corchetes</th>\n",
       "      <th>tokenizao</th>\n",
       "    </tr>\n",
       "  </thead>\n",
       "  <tbody>\n",
       "    <tr>\n",
       "      <th>0</th>\n",
       "      <td>soyungalgo</td>\n",
       "      <td>Mi danza (feat. Dani de Morón)</td>\n",
       "      <td>Fuel Fandango</td>\n",
       "      <td>\\n\\n\\nDeja que la vida brote\\nDonde menos te l...</td>\n",
       "      <td>[Deja, que, la, vida, brote, Donde, menos, te,...</td>\n",
       "    </tr>\n",
       "    <tr>\n",
       "      <th>1</th>\n",
       "      <td>soyungalgo</td>\n",
       "      <td>MERICHANE</td>\n",
       "      <td>Zahara</td>\n",
       "      <td>\\n\\n\\nYo estaba ahí cuando todos bailaban\\nMoj...</td>\n",
       "      <td>[Yo, estaba, ahí, cuando, todos, bailaban, Moj...</td>\n",
       "    </tr>\n",
       "    <tr>\n",
       "      <th>2</th>\n",
       "      <td>toni085</td>\n",
       "      <td>Olaf el vikingo</td>\n",
       "      <td>LOS NIKIS</td>\n",
       "      <td>Todos en la tribu le tienen miedo\\nOlaf el vik...</td>\n",
       "      <td>[Todos, en, la, tribu, le, tienen, miedo, Olaf...</td>\n",
       "    </tr>\n",
       "    <tr>\n",
       "      <th>3</th>\n",
       "      <td>ferqwertyuiop</td>\n",
       "      <td>So So</td>\n",
       "      <td>Rusowsky</td>\n",
       "      <td>\\nFl-Fl-Flex Lennon\\n\\n\\nPropose a toast, you ...</td>\n",
       "      <td>[Fl, Fl, Flex, Lennon, Propose, a, toast, you,...</td>\n",
       "    </tr>\n",
       "    <tr>\n",
       "      <th>4</th>\n",
       "      <td>1182774545</td>\n",
       "      <td>WTF Is In My Cup</td>\n",
       "      <td>Chico Blanco</td>\n",
       "      <td>\\n\\n\\nWhat the fuck is in my cup? I don't even...</td>\n",
       "      <td>[What, the, fuck, is, in, my, cup, I, don, t, ...</td>\n",
       "    </tr>\n",
       "  </tbody>\n",
       "</table>\n",
       "</div>"
      ],
      "text/plain": [
       "      ironhacker                            song         artist  \\\n",
       "0     soyungalgo  Mi danza (feat. Dani de Morón)  Fuel Fandango   \n",
       "1     soyungalgo                       MERICHANE         Zahara   \n",
       "2        toni085                 Olaf el vikingo      LOS NIKIS   \n",
       "3  ferqwertyuiop                           So So       Rusowsky   \n",
       "4     1182774545                WTF Is In My Cup   Chico Blanco   \n",
       "\n",
       "                                 letra sin corchetes  \\\n",
       "0  \\n\\n\\nDeja que la vida brote\\nDonde menos te l...   \n",
       "1  \\n\\n\\nYo estaba ahí cuando todos bailaban\\nMoj...   \n",
       "2  Todos en la tribu le tienen miedo\\nOlaf el vik...   \n",
       "3  \\nFl-Fl-Flex Lennon\\n\\n\\nPropose a toast, you ...   \n",
       "4  \\n\\n\\nWhat the fuck is in my cup? I don't even...   \n",
       "\n",
       "                                           tokenizao  \n",
       "0  [Deja, que, la, vida, brote, Donde, menos, te,...  \n",
       "1  [Yo, estaba, ahí, cuando, todos, bailaban, Moj...  \n",
       "2  [Todos, en, la, tribu, le, tienen, miedo, Olaf...  \n",
       "3  [Fl, Fl, Flex, Lennon, Propose, a, toast, you,...  \n",
       "4  [What, the, fuck, is, in, my, cup, I, don, t, ...  "
      ]
     },
     "execution_count": 58,
     "metadata": {},
     "output_type": "execute_result"
    }
   ],
   "source": [
    "df['tokenizao'] = df['letra sin corchetes'].apply(tokenize)\n",
    "df.head()"
   ]
  },
  {
   "cell_type": "code",
   "execution_count": 59,
   "id": "afraid-gathering",
   "metadata": {},
   "outputs": [
    {
     "data": {
      "text/html": [
       "<div>\n",
       "<style scoped>\n",
       "    .dataframe tbody tr th:only-of-type {\n",
       "        vertical-align: middle;\n",
       "    }\n",
       "\n",
       "    .dataframe tbody tr th {\n",
       "        vertical-align: top;\n",
       "    }\n",
       "\n",
       "    .dataframe thead th {\n",
       "        text-align: right;\n",
       "    }\n",
       "</style>\n",
       "<table border=\"1\" class=\"dataframe\">\n",
       "  <thead>\n",
       "    <tr style=\"text-align: right;\">\n",
       "      <th></th>\n",
       "      <th>ironhacker</th>\n",
       "      <th>song</th>\n",
       "      <th>artist</th>\n",
       "      <th>letra sin corchetes</th>\n",
       "      <th>tokenizao</th>\n",
       "    </tr>\n",
       "  </thead>\n",
       "  <tbody>\n",
       "    <tr>\n",
       "      <th>0</th>\n",
       "      <td>soyungalgo</td>\n",
       "      <td>Mi danza (feat. Dani de Morón)</td>\n",
       "      <td>Fuel Fandango</td>\n",
       "      <td>\\n\\n\\nDeja que la vida brote\\nDonde menos te l...</td>\n",
       "      <td>Deja que la vida brote Donde menos te lo esper...</td>\n",
       "    </tr>\n",
       "    <tr>\n",
       "      <th>1</th>\n",
       "      <td>soyungalgo</td>\n",
       "      <td>MERICHANE</td>\n",
       "      <td>Zahara</td>\n",
       "      <td>\\n\\n\\nYo estaba ahí cuando todos bailaban\\nMoj...</td>\n",
       "      <td>Yo estaba ahí cuando todos bailaban Mojaban el...</td>\n",
       "    </tr>\n",
       "    <tr>\n",
       "      <th>2</th>\n",
       "      <td>toni085</td>\n",
       "      <td>Olaf el vikingo</td>\n",
       "      <td>LOS NIKIS</td>\n",
       "      <td>Todos en la tribu le tienen miedo\\nOlaf el vik...</td>\n",
       "      <td>Todos en la tribu le tienen miedo Olaf el viki...</td>\n",
       "    </tr>\n",
       "    <tr>\n",
       "      <th>3</th>\n",
       "      <td>ferqwertyuiop</td>\n",
       "      <td>So So</td>\n",
       "      <td>Rusowsky</td>\n",
       "      <td>\\nFl-Fl-Flex Lennon\\n\\n\\nPropose a toast, you ...</td>\n",
       "      <td>Fl Fl Flex Lennon Propose a toast you know Mad...</td>\n",
       "    </tr>\n",
       "    <tr>\n",
       "      <th>4</th>\n",
       "      <td>1182774545</td>\n",
       "      <td>WTF Is In My Cup</td>\n",
       "      <td>Chico Blanco</td>\n",
       "      <td>\\n\\n\\nWhat the fuck is in my cup? I don't even...</td>\n",
       "      <td>What the fuck is in my cup I don t even know B...</td>\n",
       "    </tr>\n",
       "  </tbody>\n",
       "</table>\n",
       "</div>"
      ],
      "text/plain": [
       "      ironhacker                            song         artist  \\\n",
       "0     soyungalgo  Mi danza (feat. Dani de Morón)  Fuel Fandango   \n",
       "1     soyungalgo                       MERICHANE         Zahara   \n",
       "2        toni085                 Olaf el vikingo      LOS NIKIS   \n",
       "3  ferqwertyuiop                           So So       Rusowsky   \n",
       "4     1182774545                WTF Is In My Cup   Chico Blanco   \n",
       "\n",
       "                                 letra sin corchetes  \\\n",
       "0  \\n\\n\\nDeja que la vida brote\\nDonde menos te l...   \n",
       "1  \\n\\n\\nYo estaba ahí cuando todos bailaban\\nMoj...   \n",
       "2  Todos en la tribu le tienen miedo\\nOlaf el vik...   \n",
       "3  \\nFl-Fl-Flex Lennon\\n\\n\\nPropose a toast, you ...   \n",
       "4  \\n\\n\\nWhat the fuck is in my cup? I don't even...   \n",
       "\n",
       "                                           tokenizao  \n",
       "0  Deja que la vida brote Donde menos te lo esper...  \n",
       "1  Yo estaba ahí cuando todos bailaban Mojaban el...  \n",
       "2  Todos en la tribu le tienen miedo Olaf el viki...  \n",
       "3  Fl Fl Flex Lennon Propose a toast you know Mad...  \n",
       "4  What the fuck is in my cup I don t even know B...  "
      ]
     },
     "execution_count": 59,
     "metadata": {},
     "output_type": "execute_result"
    }
   ],
   "source": [
    "df['tokenizao'] = df['tokenizao'].apply(lambda x: \" \".join(x))\n",
    "df.head()"
   ]
  },
  {
   "cell_type": "markdown",
   "id": "driven-safety",
   "metadata": {},
   "source": [
    "## 3. Translating "
   ]
  },
  {
   "cell_type": "markdown",
   "id": "rough-shakespeare",
   "metadata": {},
   "source": [
    "### textblob"
   ]
  },
  {
   "cell_type": "markdown",
   "id": "fitting-spray",
   "metadata": {},
   "source": [
    "`language_1 = TextBlob(u'la_string')`<br>\n",
    "`language_2 = language_1.translate()`"
   ]
  },
  {
   "cell_type": "code",
   "execution_count": 60,
   "id": "million-environment",
   "metadata": {},
   "outputs": [
    {
     "data": {
      "text/plain": [
       "TextBlob(\"have a good day\")"
      ]
     },
     "execution_count": 60,
     "metadata": {},
     "output_type": "execute_result"
    }
   ],
   "source": [
    "#Translating\n",
    "spanish_string = TextBlob(u'que tengas buen buen day')\n",
    "english_blob=spanish_string.translate(from_lang='es',to='en')\n",
    "english_blob"
   ]
  },
  {
   "cell_type": "code",
   "execution_count": 61,
   "id": "administrative-stamp",
   "metadata": {},
   "outputs": [],
   "source": [
    "def intoEnglish(string):\n",
    "    spanish_string = TextBlob(string)\n",
    "    try:\n",
    "        english_blob=spanish_string.translate(from_lang='es',to='en')\n",
    "        return \"\".join(list(english_blob))\n",
    "    except:\n",
    "        return string"
   ]
  },
  {
   "cell_type": "code",
   "execution_count": 62,
   "id": "elder-craps",
   "metadata": {},
   "outputs": [],
   "source": [
    "df['ingles'] = df.tokenizao.apply(intoEnglish)"
   ]
  },
  {
   "cell_type": "code",
   "execution_count": 63,
   "id": "continued-gross",
   "metadata": {},
   "outputs": [
    {
     "data": {
      "text/html": [
       "<div>\n",
       "<style scoped>\n",
       "    .dataframe tbody tr th:only-of-type {\n",
       "        vertical-align: middle;\n",
       "    }\n",
       "\n",
       "    .dataframe tbody tr th {\n",
       "        vertical-align: top;\n",
       "    }\n",
       "\n",
       "    .dataframe thead th {\n",
       "        text-align: right;\n",
       "    }\n",
       "</style>\n",
       "<table border=\"1\" class=\"dataframe\">\n",
       "  <thead>\n",
       "    <tr style=\"text-align: right;\">\n",
       "      <th></th>\n",
       "      <th>ironhacker</th>\n",
       "      <th>song</th>\n",
       "      <th>artist</th>\n",
       "      <th>letra sin corchetes</th>\n",
       "      <th>tokenizao</th>\n",
       "      <th>ingles</th>\n",
       "    </tr>\n",
       "  </thead>\n",
       "  <tbody>\n",
       "    <tr>\n",
       "      <th>0</th>\n",
       "      <td>soyungalgo</td>\n",
       "      <td>Mi danza (feat. Dani de Morón)</td>\n",
       "      <td>Fuel Fandango</td>\n",
       "      <td>\\n\\n\\nDeja que la vida brote\\nDonde menos te l...</td>\n",
       "      <td>Deja que la vida brote Donde menos te lo esper...</td>\n",
       "      <td>Let life sprout Where you least expect it Let ...</td>\n",
       "    </tr>\n",
       "    <tr>\n",
       "      <th>1</th>\n",
       "      <td>soyungalgo</td>\n",
       "      <td>MERICHANE</td>\n",
       "      <td>Zahara</td>\n",
       "      <td>\\n\\n\\nYo estaba ahí cuando todos bailaban\\nMoj...</td>\n",
       "      <td>Yo estaba ahí cuando todos bailaban Mojaban el...</td>\n",
       "      <td>I was there when everyone was dancing They wet...</td>\n",
       "    </tr>\n",
       "    <tr>\n",
       "      <th>2</th>\n",
       "      <td>toni085</td>\n",
       "      <td>Olaf el vikingo</td>\n",
       "      <td>LOS NIKIS</td>\n",
       "      <td>Todos en la tribu le tienen miedo\\nOlaf el vik...</td>\n",
       "      <td>Todos en la tribu le tienen miedo Olaf el viki...</td>\n",
       "      <td>Everyone in the tribe is afraid of him Olaf th...</td>\n",
       "    </tr>\n",
       "    <tr>\n",
       "      <th>3</th>\n",
       "      <td>ferqwertyuiop</td>\n",
       "      <td>So So</td>\n",
       "      <td>Rusowsky</td>\n",
       "      <td>\\nFl-Fl-Flex Lennon\\n\\n\\nPropose a toast, you ...</td>\n",
       "      <td>Fl Fl Flex Lennon Propose a toast you know Mad...</td>\n",
       "      <td>Fl Fl Flex Lennon Propose a toast you know Mad...</td>\n",
       "    </tr>\n",
       "    <tr>\n",
       "      <th>4</th>\n",
       "      <td>1182774545</td>\n",
       "      <td>WTF Is In My Cup</td>\n",
       "      <td>Chico Blanco</td>\n",
       "      <td>\\n\\n\\nWhat the fuck is in my cup? I don't even...</td>\n",
       "      <td>What the fuck is in my cup I don t even know B...</td>\n",
       "      <td>What the fuck is in my cup I don t even know B...</td>\n",
       "    </tr>\n",
       "  </tbody>\n",
       "</table>\n",
       "</div>"
      ],
      "text/plain": [
       "      ironhacker                            song         artist  \\\n",
       "0     soyungalgo  Mi danza (feat. Dani de Morón)  Fuel Fandango   \n",
       "1     soyungalgo                       MERICHANE         Zahara   \n",
       "2        toni085                 Olaf el vikingo      LOS NIKIS   \n",
       "3  ferqwertyuiop                           So So       Rusowsky   \n",
       "4     1182774545                WTF Is In My Cup   Chico Blanco   \n",
       "\n",
       "                                 letra sin corchetes  \\\n",
       "0  \\n\\n\\nDeja que la vida brote\\nDonde menos te l...   \n",
       "1  \\n\\n\\nYo estaba ahí cuando todos bailaban\\nMoj...   \n",
       "2  Todos en la tribu le tienen miedo\\nOlaf el vik...   \n",
       "3  \\nFl-Fl-Flex Lennon\\n\\n\\nPropose a toast, you ...   \n",
       "4  \\n\\n\\nWhat the fuck is in my cup? I don't even...   \n",
       "\n",
       "                                           tokenizao  \\\n",
       "0  Deja que la vida brote Donde menos te lo esper...   \n",
       "1  Yo estaba ahí cuando todos bailaban Mojaban el...   \n",
       "2  Todos en la tribu le tienen miedo Olaf el viki...   \n",
       "3  Fl Fl Flex Lennon Propose a toast you know Mad...   \n",
       "4  What the fuck is in my cup I don t even know B...   \n",
       "\n",
       "                                              ingles  \n",
       "0  Let life sprout Where you least expect it Let ...  \n",
       "1  I was there when everyone was dancing They wet...  \n",
       "2  Everyone in the tribe is afraid of him Olaf th...  \n",
       "3  Fl Fl Flex Lennon Propose a toast you know Mad...  \n",
       "4  What the fuck is in my cup I don t even know B...  "
      ]
     },
     "execution_count": 63,
     "metadata": {},
     "output_type": "execute_result"
    }
   ],
   "source": [
    "df.head()"
   ]
  },
  {
   "cell_type": "markdown",
   "id": "otherwise-renewal",
   "metadata": {},
   "source": [
    "## 4. Stop words"
   ]
  },
  {
   "cell_type": "code",
   "execution_count": 64,
   "id": "northern-strand",
   "metadata": {},
   "outputs": [
    {
     "name": "stderr",
     "output_type": "stream",
     "text": [
      "[nltk_data] Downloading package stopwords to\n",
      "[nltk_data]     /Users/breogann/nltk_data...\n",
      "[nltk_data]   Package stopwords is already up-to-date!\n"
     ]
    },
    {
     "data": {
      "text/plain": [
       "True"
      ]
     },
     "execution_count": 64,
     "metadata": {},
     "output_type": "execute_result"
    }
   ],
   "source": [
    "nltk.download('stopwords') #stopwords"
   ]
  },
  {
   "cell_type": "code",
   "execution_count": 65,
   "id": "rental-optimization",
   "metadata": {},
   "outputs": [
    {
     "name": "stdout",
     "output_type": "stream",
     "text": [
      "{'until', 'ma', 'what', 'when', 'd', \"mightn't\", \"hasn't\", 'couldn', 'be', 'those', 'am', 'below', 'by', 'are', 'very', 'if', 'under', 'few', 'then', 'a', 'same', 'too', 'than', 'will', 'yourselves', 'why', \"hadn't\", 'not', 'whom', \"weren't\", \"you're\", 'for', 'yours', 'out', 'he', \"that'll\", 'she', 'once', 'both', \"didn't\", 'me', 'own', 'his', 'having', 'hadn', 'hasn', 'most', \"you'll\", 'her', 'has', 'their', 'were', 'they', 'mightn', 'where', 've', 'off', 'have', 'do', 'as', 'himself', 'on', 'who', 'the', 'doesn', 'was', 're', 'an', \"shouldn't\", 'these', 'ain', 'after', 'above', 'how', 'or', \"you'd\", 's', \"wouldn't\", 'your', 'shouldn', 't', 'before', 'again', 'about', 'we', 'don', 'shan', 'just', 'ourselves', \"don't\", 'of', 'you', 'him', 'that', 'does', 'this', 'isn', 'because', 'into', 'other', 'themselves', \"wasn't\", 'so', \"won't\", 'll', 'won', 'all', 'herself', 'o', 'y', \"shan't\", 'i', 'theirs', 'here', 'doing', 'between', 'and', 'from', 'ours', 'yourself', 'to', 'against', 'over', 'nor', 'wouldn', 'myself', 'my', 'each', 'needn', 'in', 'such', 'no', 'aren', 'at', 'through', 'didn', 'with', \"couldn't\", 'm', 'them', \"she's\", 'further', \"should've\", 'it', 'been', \"isn't\", 'wasn', 'itself', 'but', 'can', \"mustn't\", 'up', \"haven't\", \"aren't\", \"you've\", 'there', 'haven', 'more', \"it's\", 'now', \"needn't\", 'weren', 'had', 'did', 'any', 'should', 'is', 'during', 'our', 'while', 'only', \"doesn't\", 'its', 'mustn', 'down', 'which', 'some', 'being', 'hers'}\n"
     ]
    }
   ],
   "source": [
    "stop_words = set(stopwords.words('english'))\n",
    "print(stop_words)"
   ]
  },
  {
   "cell_type": "code",
   "execution_count": 66,
   "id": "another-electron",
   "metadata": {},
   "outputs": [],
   "source": [
    "df.ingles = df.ingles.apply(lambda x: x.split(\" \"))"
   ]
  },
  {
   "cell_type": "code",
   "execution_count": 67,
   "id": "knowing-teach",
   "metadata": {},
   "outputs": [
    {
     "data": {
      "text/html": [
       "<div>\n",
       "<style scoped>\n",
       "    .dataframe tbody tr th:only-of-type {\n",
       "        vertical-align: middle;\n",
       "    }\n",
       "\n",
       "    .dataframe tbody tr th {\n",
       "        vertical-align: top;\n",
       "    }\n",
       "\n",
       "    .dataframe thead th {\n",
       "        text-align: right;\n",
       "    }\n",
       "</style>\n",
       "<table border=\"1\" class=\"dataframe\">\n",
       "  <thead>\n",
       "    <tr style=\"text-align: right;\">\n",
       "      <th></th>\n",
       "      <th>ironhacker</th>\n",
       "      <th>song</th>\n",
       "      <th>artist</th>\n",
       "      <th>letra sin corchetes</th>\n",
       "      <th>tokenizao</th>\n",
       "      <th>ingles</th>\n",
       "    </tr>\n",
       "  </thead>\n",
       "  <tbody>\n",
       "    <tr>\n",
       "      <th>0</th>\n",
       "      <td>soyungalgo</td>\n",
       "      <td>Mi danza (feat. Dani de Morón)</td>\n",
       "      <td>Fuel Fandango</td>\n",
       "      <td>\\n\\n\\nDeja que la vida brote\\nDonde menos te l...</td>\n",
       "      <td>Deja que la vida brote Donde menos te lo esper...</td>\n",
       "      <td>[Let, life, sprout, Where, you, least, expect,...</td>\n",
       "    </tr>\n",
       "    <tr>\n",
       "      <th>1</th>\n",
       "      <td>soyungalgo</td>\n",
       "      <td>MERICHANE</td>\n",
       "      <td>Zahara</td>\n",
       "      <td>\\n\\n\\nYo estaba ahí cuando todos bailaban\\nMoj...</td>\n",
       "      <td>Yo estaba ahí cuando todos bailaban Mojaban el...</td>\n",
       "      <td>[I, was, there, when, everyone, was, dancing, ...</td>\n",
       "    </tr>\n",
       "    <tr>\n",
       "      <th>2</th>\n",
       "      <td>toni085</td>\n",
       "      <td>Olaf el vikingo</td>\n",
       "      <td>LOS NIKIS</td>\n",
       "      <td>Todos en la tribu le tienen miedo\\nOlaf el vik...</td>\n",
       "      <td>Todos en la tribu le tienen miedo Olaf el viki...</td>\n",
       "      <td>[Everyone, in, the, tribe, is, afraid, of, him...</td>\n",
       "    </tr>\n",
       "    <tr>\n",
       "      <th>3</th>\n",
       "      <td>ferqwertyuiop</td>\n",
       "      <td>So So</td>\n",
       "      <td>Rusowsky</td>\n",
       "      <td>\\nFl-Fl-Flex Lennon\\n\\n\\nPropose a toast, you ...</td>\n",
       "      <td>Fl Fl Flex Lennon Propose a toast you know Mad...</td>\n",
       "      <td>[Fl, Fl, Flex, Lennon, Propose, a, toast, you,...</td>\n",
       "    </tr>\n",
       "    <tr>\n",
       "      <th>4</th>\n",
       "      <td>1182774545</td>\n",
       "      <td>WTF Is In My Cup</td>\n",
       "      <td>Chico Blanco</td>\n",
       "      <td>\\n\\n\\nWhat the fuck is in my cup? I don't even...</td>\n",
       "      <td>What the fuck is in my cup I don t even know B...</td>\n",
       "      <td>[What, the, fuck, is, in, my, cup, I, don, t, ...</td>\n",
       "    </tr>\n",
       "  </tbody>\n",
       "</table>\n",
       "</div>"
      ],
      "text/plain": [
       "      ironhacker                            song         artist  \\\n",
       "0     soyungalgo  Mi danza (feat. Dani de Morón)  Fuel Fandango   \n",
       "1     soyungalgo                       MERICHANE         Zahara   \n",
       "2        toni085                 Olaf el vikingo      LOS NIKIS   \n",
       "3  ferqwertyuiop                           So So       Rusowsky   \n",
       "4     1182774545                WTF Is In My Cup   Chico Blanco   \n",
       "\n",
       "                                 letra sin corchetes  \\\n",
       "0  \\n\\n\\nDeja que la vida brote\\nDonde menos te l...   \n",
       "1  \\n\\n\\nYo estaba ahí cuando todos bailaban\\nMoj...   \n",
       "2  Todos en la tribu le tienen miedo\\nOlaf el vik...   \n",
       "3  \\nFl-Fl-Flex Lennon\\n\\n\\nPropose a toast, you ...   \n",
       "4  \\n\\n\\nWhat the fuck is in my cup? I don't even...   \n",
       "\n",
       "                                           tokenizao  \\\n",
       "0  Deja que la vida brote Donde menos te lo esper...   \n",
       "1  Yo estaba ahí cuando todos bailaban Mojaban el...   \n",
       "2  Todos en la tribu le tienen miedo Olaf el viki...   \n",
       "3  Fl Fl Flex Lennon Propose a toast you know Mad...   \n",
       "4  What the fuck is in my cup I don t even know B...   \n",
       "\n",
       "                                              ingles  \n",
       "0  [Let, life, sprout, Where, you, least, expect,...  \n",
       "1  [I, was, there, when, everyone, was, dancing, ...  \n",
       "2  [Everyone, in, the, tribe, is, afraid, of, him...  \n",
       "3  [Fl, Fl, Flex, Lennon, Propose, a, toast, you,...  \n",
       "4  [What, the, fuck, is, in, my, cup, I, don, t, ...  "
      ]
     },
     "execution_count": 67,
     "metadata": {},
     "output_type": "execute_result"
    }
   ],
   "source": [
    "df.head()"
   ]
  },
  {
   "cell_type": "code",
   "execution_count": 68,
   "id": "linear-newman",
   "metadata": {},
   "outputs": [],
   "source": [
    "def stop_words (lista):\n",
    "    stop_words = set(stopwords.words('english'))\n",
    "    nueva_lista = []\n",
    "    for string in lista:\n",
    "        if string not in stop_words:\n",
    "            nueva_lista.append(string)\n",
    "    return \" \".join(nueva_lista)"
   ]
  },
  {
   "cell_type": "code",
   "execution_count": 69,
   "id": "forty-savings",
   "metadata": {},
   "outputs": [
    {
     "data": {
      "text/html": [
       "<div>\n",
       "<style scoped>\n",
       "    .dataframe tbody tr th:only-of-type {\n",
       "        vertical-align: middle;\n",
       "    }\n",
       "\n",
       "    .dataframe tbody tr th {\n",
       "        vertical-align: top;\n",
       "    }\n",
       "\n",
       "    .dataframe thead th {\n",
       "        text-align: right;\n",
       "    }\n",
       "</style>\n",
       "<table border=\"1\" class=\"dataframe\">\n",
       "  <thead>\n",
       "    <tr style=\"text-align: right;\">\n",
       "      <th></th>\n",
       "      <th>ironhacker</th>\n",
       "      <th>song</th>\n",
       "      <th>artist</th>\n",
       "      <th>letra sin corchetes</th>\n",
       "      <th>tokenizao</th>\n",
       "      <th>ingles</th>\n",
       "    </tr>\n",
       "  </thead>\n",
       "  <tbody>\n",
       "    <tr>\n",
       "      <th>0</th>\n",
       "      <td>soyungalgo</td>\n",
       "      <td>Mi danza (feat. Dani de Morón)</td>\n",
       "      <td>Fuel Fandango</td>\n",
       "      <td>\\n\\n\\nDeja que la vida brote\\nDonde menos te l...</td>\n",
       "      <td>Deja que la vida brote Donde menos te lo esper...</td>\n",
       "      <td>Let life sprout Where least expect Let make wa...</td>\n",
       "    </tr>\n",
       "    <tr>\n",
       "      <th>1</th>\n",
       "      <td>soyungalgo</td>\n",
       "      <td>MERICHANE</td>\n",
       "      <td>Zahara</td>\n",
       "      <td>\\n\\n\\nYo estaba ahí cuando todos bailaban\\nMoj...</td>\n",
       "      <td>Yo estaba ahí cuando todos bailaban Mojaban el...</td>\n",
       "      <td>I everyone dancing They wet finger thought ete...</td>\n",
       "    </tr>\n",
       "    <tr>\n",
       "      <th>2</th>\n",
       "      <td>toni085</td>\n",
       "      <td>Olaf el vikingo</td>\n",
       "      <td>LOS NIKIS</td>\n",
       "      <td>Todos en la tribu le tienen miedo\\nOlaf el vik...</td>\n",
       "      <td>Todos en la tribu le tienen miedo Olaf el viki...</td>\n",
       "      <td>Everyone tribe afraid Olaf Viking cold ice The...</td>\n",
       "    </tr>\n",
       "    <tr>\n",
       "      <th>3</th>\n",
       "      <td>ferqwertyuiop</td>\n",
       "      <td>So So</td>\n",
       "      <td>Rusowsky</td>\n",
       "      <td>\\nFl-Fl-Flex Lennon\\n\\n\\nPropose a toast, you ...</td>\n",
       "      <td>Fl Fl Flex Lennon Propose a toast you know Mad...</td>\n",
       "      <td>Fl Fl Flex Lennon Propose toast know Made high...</td>\n",
       "    </tr>\n",
       "    <tr>\n",
       "      <th>4</th>\n",
       "      <td>1182774545</td>\n",
       "      <td>WTF Is In My Cup</td>\n",
       "      <td>Chico Blanco</td>\n",
       "      <td>\\n\\n\\nWhat the fuck is in my cup? I don't even...</td>\n",
       "      <td>What the fuck is in my cup I don t even know B...</td>\n",
       "      <td>What fuck cup I even know But I drink drink dr...</td>\n",
       "    </tr>\n",
       "  </tbody>\n",
       "</table>\n",
       "</div>"
      ],
      "text/plain": [
       "      ironhacker                            song         artist  \\\n",
       "0     soyungalgo  Mi danza (feat. Dani de Morón)  Fuel Fandango   \n",
       "1     soyungalgo                       MERICHANE         Zahara   \n",
       "2        toni085                 Olaf el vikingo      LOS NIKIS   \n",
       "3  ferqwertyuiop                           So So       Rusowsky   \n",
       "4     1182774545                WTF Is In My Cup   Chico Blanco   \n",
       "\n",
       "                                 letra sin corchetes  \\\n",
       "0  \\n\\n\\nDeja que la vida brote\\nDonde menos te l...   \n",
       "1  \\n\\n\\nYo estaba ahí cuando todos bailaban\\nMoj...   \n",
       "2  Todos en la tribu le tienen miedo\\nOlaf el vik...   \n",
       "3  \\nFl-Fl-Flex Lennon\\n\\n\\nPropose a toast, you ...   \n",
       "4  \\n\\n\\nWhat the fuck is in my cup? I don't even...   \n",
       "\n",
       "                                           tokenizao  \\\n",
       "0  Deja que la vida brote Donde menos te lo esper...   \n",
       "1  Yo estaba ahí cuando todos bailaban Mojaban el...   \n",
       "2  Todos en la tribu le tienen miedo Olaf el viki...   \n",
       "3  Fl Fl Flex Lennon Propose a toast you know Mad...   \n",
       "4  What the fuck is in my cup I don t even know B...   \n",
       "\n",
       "                                              ingles  \n",
       "0  Let life sprout Where least expect Let make wa...  \n",
       "1  I everyone dancing They wet finger thought ete...  \n",
       "2  Everyone tribe afraid Olaf Viking cold ice The...  \n",
       "3  Fl Fl Flex Lennon Propose toast know Made high...  \n",
       "4  What fuck cup I even know But I drink drink dr...  "
      ]
     },
     "execution_count": 69,
     "metadata": {},
     "output_type": "execute_result"
    }
   ],
   "source": [
    "df.ingles = df.ingles.apply(stop_words)\n",
    "df.head()"
   ]
  },
  {
   "cell_type": "markdown",
   "id": "whole-engineer",
   "metadata": {},
   "source": [
    "## 5. Sentiment analysis"
   ]
  },
  {
   "cell_type": "markdown",
   "id": "introductory-commitment",
   "metadata": {},
   "source": [
    "#### 5.1.1. Textblob"
   ]
  },
  {
   "cell_type": "markdown",
   "id": "automated-development",
   "metadata": {},
   "source": [
    "`TextBlob(the_string).sentiment`"
   ]
  },
  {
   "cell_type": "markdown",
   "id": "lonely-original",
   "metadata": {},
   "source": [
    "**Args:** `string`<br>\n",
    "**Returns:** `polarity`& `subjectivity`"
   ]
  },
  {
   "cell_type": "code",
   "execution_count": 70,
   "id": "coral-stress",
   "metadata": {},
   "outputs": [],
   "source": [
    "the_string = \"i hate it here\""
   ]
  },
  {
   "cell_type": "code",
   "execution_count": 71,
   "id": "departmental-feelings",
   "metadata": {},
   "outputs": [
    {
     "data": {
      "text/plain": [
       "Sentiment(polarity=-0.8, subjectivity=0.9)"
      ]
     },
     "execution_count": 71,
     "metadata": {},
     "output_type": "execute_result"
    }
   ],
   "source": [
    "blob = TextBlob(the_string)\n",
    "blob.sentiment"
   ]
  },
  {
   "cell_type": "markdown",
   "id": "caring-franklin",
   "metadata": {},
   "source": [
    "#### 5.1.2. NLTK"
   ]
  },
  {
   "cell_type": "markdown",
   "id": "finite-primary",
   "metadata": {},
   "source": [
    "`sia.polarity_scores(the_string)`"
   ]
  },
  {
   "cell_type": "markdown",
   "id": "lesbian-freeze",
   "metadata": {},
   "source": [
    "**Args:** `string`<br>\n",
    "**Returns:** `polarity`"
   ]
  },
  {
   "cell_type": "code",
   "execution_count": 72,
   "id": "logical-browser",
   "metadata": {},
   "outputs": [],
   "source": [
    "sia = SentimentIntensityAnalyzer()"
   ]
  },
  {
   "cell_type": "code",
   "execution_count": 73,
   "id": "urban-aurora",
   "metadata": {},
   "outputs": [],
   "source": [
    "sentence = \"this is beautiful\""
   ]
  },
  {
   "cell_type": "code",
   "execution_count": 74,
   "id": "velvet-internet",
   "metadata": {},
   "outputs": [],
   "source": [
    "polarity = sia.polarity_scores(sentence)"
   ]
  },
  {
   "cell_type": "code",
   "execution_count": 75,
   "id": "certain-trailer",
   "metadata": {},
   "outputs": [
    {
     "data": {
      "text/plain": [
       "{'neg': 0.0, 'neu': 0.339, 'pos': 0.661, 'compound': 0.5994}"
      ]
     },
     "execution_count": 75,
     "metadata": {},
     "output_type": "execute_result"
    }
   ],
   "source": [
    "polarity"
   ]
  },
  {
   "cell_type": "code",
   "execution_count": 76,
   "id": "respiratory-index",
   "metadata": {},
   "outputs": [],
   "source": [
    "def sentimentAnalysis(sentence):\n",
    "    sia = SentimentIntensityAnalyzer()\n",
    "    polarity = sia.polarity_scores(sentence)\n",
    "    pol = polarity['compound']\n",
    "    return pol"
   ]
  },
  {
   "cell_type": "code",
   "execution_count": 77,
   "id": "vietnamese-gossip",
   "metadata": {},
   "outputs": [
    {
     "data": {
      "text/plain": [
       "0.5994"
      ]
     },
     "execution_count": 77,
     "metadata": {},
     "output_type": "execute_result"
    }
   ],
   "source": [
    "sentimentAnalysis(sentence)"
   ]
  },
  {
   "cell_type": "code",
   "execution_count": 79,
   "id": "major-valve",
   "metadata": {},
   "outputs": [
    {
     "data": {
      "text/html": [
       "<div>\n",
       "<style scoped>\n",
       "    .dataframe tbody tr th:only-of-type {\n",
       "        vertical-align: middle;\n",
       "    }\n",
       "\n",
       "    .dataframe tbody tr th {\n",
       "        vertical-align: top;\n",
       "    }\n",
       "\n",
       "    .dataframe thead th {\n",
       "        text-align: right;\n",
       "    }\n",
       "</style>\n",
       "<table border=\"1\" class=\"dataframe\">\n",
       "  <thead>\n",
       "    <tr style=\"text-align: right;\">\n",
       "      <th></th>\n",
       "      <th>ironhacker</th>\n",
       "      <th>song</th>\n",
       "      <th>artist</th>\n",
       "      <th>letra sin corchetes</th>\n",
       "      <th>tokenizao</th>\n",
       "      <th>ingles</th>\n",
       "      <th>sentiment_compound</th>\n",
       "    </tr>\n",
       "  </thead>\n",
       "  <tbody>\n",
       "    <tr>\n",
       "      <th>0</th>\n",
       "      <td>soyungalgo</td>\n",
       "      <td>Mi danza (feat. Dani de Morón)</td>\n",
       "      <td>Fuel Fandango</td>\n",
       "      <td>\\n\\n\\nDeja que la vida brote\\nDonde menos te l...</td>\n",
       "      <td>Deja que la vida brote Donde menos te lo esper...</td>\n",
       "      <td>Let life sprout Where least expect Let make wa...</td>\n",
       "      <td>0.7506</td>\n",
       "    </tr>\n",
       "    <tr>\n",
       "      <th>1</th>\n",
       "      <td>soyungalgo</td>\n",
       "      <td>MERICHANE</td>\n",
       "      <td>Zahara</td>\n",
       "      <td>\\n\\n\\nYo estaba ahí cuando todos bailaban\\nMoj...</td>\n",
       "      <td>Yo estaba ahí cuando todos bailaban Mojaban el...</td>\n",
       "      <td>I everyone dancing They wet finger thought ete...</td>\n",
       "      <td>0.8275</td>\n",
       "    </tr>\n",
       "    <tr>\n",
       "      <th>2</th>\n",
       "      <td>toni085</td>\n",
       "      <td>Olaf el vikingo</td>\n",
       "      <td>LOS NIKIS</td>\n",
       "      <td>Todos en la tribu le tienen miedo\\nOlaf el vik...</td>\n",
       "      <td>Todos en la tribu le tienen miedo Olaf el viki...</td>\n",
       "      <td>Everyone tribe afraid Olaf Viking cold ice The...</td>\n",
       "      <td>-0.9801</td>\n",
       "    </tr>\n",
       "    <tr>\n",
       "      <th>3</th>\n",
       "      <td>ferqwertyuiop</td>\n",
       "      <td>So So</td>\n",
       "      <td>Rusowsky</td>\n",
       "      <td>\\nFl-Fl-Flex Lennon\\n\\n\\nPropose a toast, you ...</td>\n",
       "      <td>Fl Fl Flex Lennon Propose a toast you know Mad...</td>\n",
       "      <td>Fl Fl Flex Lennon Propose toast know Made high...</td>\n",
       "      <td>0.8670</td>\n",
       "    </tr>\n",
       "    <tr>\n",
       "      <th>4</th>\n",
       "      <td>1182774545</td>\n",
       "      <td>WTF Is In My Cup</td>\n",
       "      <td>Chico Blanco</td>\n",
       "      <td>\\n\\n\\nWhat the fuck is in my cup? I don't even...</td>\n",
       "      <td>What the fuck is in my cup I don t even know B...</td>\n",
       "      <td>What fuck cup I even know But I drink drink dr...</td>\n",
       "      <td>0.8316</td>\n",
       "    </tr>\n",
       "  </tbody>\n",
       "</table>\n",
       "</div>"
      ],
      "text/plain": [
       "      ironhacker                            song         artist  \\\n",
       "0     soyungalgo  Mi danza (feat. Dani de Morón)  Fuel Fandango   \n",
       "1     soyungalgo                       MERICHANE         Zahara   \n",
       "2        toni085                 Olaf el vikingo      LOS NIKIS   \n",
       "3  ferqwertyuiop                           So So       Rusowsky   \n",
       "4     1182774545                WTF Is In My Cup   Chico Blanco   \n",
       "\n",
       "                                 letra sin corchetes  \\\n",
       "0  \\n\\n\\nDeja que la vida brote\\nDonde menos te l...   \n",
       "1  \\n\\n\\nYo estaba ahí cuando todos bailaban\\nMoj...   \n",
       "2  Todos en la tribu le tienen miedo\\nOlaf el vik...   \n",
       "3  \\nFl-Fl-Flex Lennon\\n\\n\\nPropose a toast, you ...   \n",
       "4  \\n\\n\\nWhat the fuck is in my cup? I don't even...   \n",
       "\n",
       "                                           tokenizao  \\\n",
       "0  Deja que la vida brote Donde menos te lo esper...   \n",
       "1  Yo estaba ahí cuando todos bailaban Mojaban el...   \n",
       "2  Todos en la tribu le tienen miedo Olaf el viki...   \n",
       "3  Fl Fl Flex Lennon Propose a toast you know Mad...   \n",
       "4  What the fuck is in my cup I don t even know B...   \n",
       "\n",
       "                                              ingles  sentiment_compound  \n",
       "0  Let life sprout Where least expect Let make wa...              0.7506  \n",
       "1  I everyone dancing They wet finger thought ete...              0.8275  \n",
       "2  Everyone tribe afraid Olaf Viking cold ice The...             -0.9801  \n",
       "3  Fl Fl Flex Lennon Propose toast know Made high...              0.8670  \n",
       "4  What fuck cup I even know But I drink drink dr...              0.8316  "
      ]
     },
     "execution_count": 79,
     "metadata": {},
     "output_type": "execute_result"
    }
   ],
   "source": [
    "df['sentiment_compound'] = df.ingles.apply(sentimentAnalysis)\n",
    "df.head()"
   ]
  },
  {
   "cell_type": "markdown",
   "id": "alternate-daily",
   "metadata": {},
   "source": [
    "### Other libraries: 🇪🇸 sentiment_analysis"
   ]
  },
  {
   "cell_type": "code",
   "execution_count": null,
   "id": "portable-radar",
   "metadata": {},
   "outputs": [],
   "source": [
    "sentiment = sentiment_analysis.SentimentAnalysisSpanish()\n",
    "print(sentiment.sentiment(\"me gusta la tombola es genial\"))"
   ]
  },
  {
   "cell_type": "code",
   "execution_count": null,
   "id": "widespread-token",
   "metadata": {},
   "outputs": [],
   "source": [
    "def sentiment_spanish(x):\n",
    "    return sentiment.sentiment(x)"
   ]
  },
  {
   "cell_type": "code",
   "execution_count": null,
   "id": "nasty-multiple",
   "metadata": {},
   "outputs": [],
   "source": [
    "#Now into a function\n",
    "\n",
    "def traducir (string):\n",
    "    texto = TextBlob(f'{string}')\n",
    "    try:\n",
    "        traduccion = texto.translate(to='en')\n",
    "        return traduccion\n",
    "    except:\n",
    "        sentiment_spanish(string)"
   ]
  },
  {
   "cell_type": "markdown",
   "id": "funded-sender",
   "metadata": {},
   "source": [
    "# 6. DF"
   ]
  },
  {
   "cell_type": "code",
   "execution_count": 80,
   "id": "czech-folder",
   "metadata": {},
   "outputs": [
    {
     "data": {
      "text/html": [
       "<div>\n",
       "<style scoped>\n",
       "    .dataframe tbody tr th:only-of-type {\n",
       "        vertical-align: middle;\n",
       "    }\n",
       "\n",
       "    .dataframe tbody tr th {\n",
       "        vertical-align: top;\n",
       "    }\n",
       "\n",
       "    .dataframe thead th {\n",
       "        text-align: right;\n",
       "    }\n",
       "</style>\n",
       "<table border=\"1\" class=\"dataframe\">\n",
       "  <thead>\n",
       "    <tr style=\"text-align: right;\">\n",
       "      <th></th>\n",
       "      <th>ironhacker</th>\n",
       "      <th>song</th>\n",
       "      <th>artist</th>\n",
       "      <th>letra sin corchetes</th>\n",
       "      <th>tokenizao</th>\n",
       "      <th>ingles</th>\n",
       "      <th>sentiment_compound</th>\n",
       "    </tr>\n",
       "  </thead>\n",
       "  <tbody>\n",
       "    <tr>\n",
       "      <th>0</th>\n",
       "      <td>soyungalgo</td>\n",
       "      <td>Mi danza (feat. Dani de Morón)</td>\n",
       "      <td>Fuel Fandango</td>\n",
       "      <td>\\n\\n\\nDeja que la vida brote\\nDonde menos te l...</td>\n",
       "      <td>Deja que la vida brote Donde menos te lo esper...</td>\n",
       "      <td>Let life sprout Where least expect Let make wa...</td>\n",
       "      <td>0.7506</td>\n",
       "    </tr>\n",
       "    <tr>\n",
       "      <th>1</th>\n",
       "      <td>soyungalgo</td>\n",
       "      <td>MERICHANE</td>\n",
       "      <td>Zahara</td>\n",
       "      <td>\\n\\n\\nYo estaba ahí cuando todos bailaban\\nMoj...</td>\n",
       "      <td>Yo estaba ahí cuando todos bailaban Mojaban el...</td>\n",
       "      <td>I everyone dancing They wet finger thought ete...</td>\n",
       "      <td>0.8275</td>\n",
       "    </tr>\n",
       "    <tr>\n",
       "      <th>2</th>\n",
       "      <td>toni085</td>\n",
       "      <td>Olaf el vikingo</td>\n",
       "      <td>LOS NIKIS</td>\n",
       "      <td>Todos en la tribu le tienen miedo\\nOlaf el vik...</td>\n",
       "      <td>Todos en la tribu le tienen miedo Olaf el viki...</td>\n",
       "      <td>Everyone tribe afraid Olaf Viking cold ice The...</td>\n",
       "      <td>-0.9801</td>\n",
       "    </tr>\n",
       "    <tr>\n",
       "      <th>3</th>\n",
       "      <td>ferqwertyuiop</td>\n",
       "      <td>So So</td>\n",
       "      <td>Rusowsky</td>\n",
       "      <td>\\nFl-Fl-Flex Lennon\\n\\n\\nPropose a toast, you ...</td>\n",
       "      <td>Fl Fl Flex Lennon Propose a toast you know Mad...</td>\n",
       "      <td>Fl Fl Flex Lennon Propose toast know Made high...</td>\n",
       "      <td>0.8670</td>\n",
       "    </tr>\n",
       "    <tr>\n",
       "      <th>4</th>\n",
       "      <td>1182774545</td>\n",
       "      <td>WTF Is In My Cup</td>\n",
       "      <td>Chico Blanco</td>\n",
       "      <td>\\n\\n\\nWhat the fuck is in my cup? I don't even...</td>\n",
       "      <td>What the fuck is in my cup I don t even know B...</td>\n",
       "      <td>What fuck cup I even know But I drink drink dr...</td>\n",
       "      <td>0.8316</td>\n",
       "    </tr>\n",
       "  </tbody>\n",
       "</table>\n",
       "</div>"
      ],
      "text/plain": [
       "      ironhacker                            song         artist  \\\n",
       "0     soyungalgo  Mi danza (feat. Dani de Morón)  Fuel Fandango   \n",
       "1     soyungalgo                       MERICHANE         Zahara   \n",
       "2        toni085                 Olaf el vikingo      LOS NIKIS   \n",
       "3  ferqwertyuiop                           So So       Rusowsky   \n",
       "4     1182774545                WTF Is In My Cup   Chico Blanco   \n",
       "\n",
       "                                 letra sin corchetes  \\\n",
       "0  \\n\\n\\nDeja que la vida brote\\nDonde menos te l...   \n",
       "1  \\n\\n\\nYo estaba ahí cuando todos bailaban\\nMoj...   \n",
       "2  Todos en la tribu le tienen miedo\\nOlaf el vik...   \n",
       "3  \\nFl-Fl-Flex Lennon\\n\\n\\nPropose a toast, you ...   \n",
       "4  \\n\\n\\nWhat the fuck is in my cup? I don't even...   \n",
       "\n",
       "                                           tokenizao  \\\n",
       "0  Deja que la vida brote Donde menos te lo esper...   \n",
       "1  Yo estaba ahí cuando todos bailaban Mojaban el...   \n",
       "2  Todos en la tribu le tienen miedo Olaf el viki...   \n",
       "3  Fl Fl Flex Lennon Propose a toast you know Mad...   \n",
       "4  What the fuck is in my cup I don t even know B...   \n",
       "\n",
       "                                              ingles  sentiment_compound  \n",
       "0  Let life sprout Where least expect Let make wa...              0.7506  \n",
       "1  I everyone dancing They wet finger thought ete...              0.8275  \n",
       "2  Everyone tribe afraid Olaf Viking cold ice The...             -0.9801  \n",
       "3  Fl Fl Flex Lennon Propose toast know Made high...              0.8670  \n",
       "4  What fuck cup I even know But I drink drink dr...              0.8316  "
      ]
     },
     "execution_count": 80,
     "metadata": {},
     "output_type": "execute_result"
    }
   ],
   "source": [
    "df.head()"
   ]
  },
  {
   "cell_type": "code",
   "execution_count": 81,
   "id": "injured-cruise",
   "metadata": {},
   "outputs": [
    {
     "data": {
      "text/plain": [
       "ironhacker\n",
       "1183037273      -0.002550\n",
       "copia002         0.263800\n",
       "toni085          0.277560\n",
       "1182774545       0.340994\n",
       "ferqwertyuiop    0.424450\n",
       "pecmusasana      0.499900\n",
       "soyungalgo       0.515560\n",
       "Name: sentiment_compound, dtype: float64"
      ]
     },
     "execution_count": 81,
     "metadata": {},
     "output_type": "execute_result"
    }
   ],
   "source": [
    "resumen = df.groupby(['ironhacker'])['sentiment_compound'].mean().sort_values()\n",
    "resumen"
   ]
  },
  {
   "cell_type": "code",
   "execution_count": 82,
   "id": "golden-geography",
   "metadata": {},
   "outputs": [
    {
     "data": {
      "text/plain": [
       "<AxesSubplot:xlabel='ironhacker'>"
      ]
     },
     "execution_count": 82,
     "metadata": {},
     "output_type": "execute_result"
    },
    {
     "data": {
      "image/png": "[encoded data removed]",
      "text/plain": [
       "<Figure size 432x288 with 1 Axes>"
      ]
     },
     "metadata": {
      "needs_background": "light"
     },
     "output_type": "display_data"
    }
   ],
   "source": [
    "resumen.plot(kind=\"bar\")"
   ]
  },
  {
   "cell_type": "markdown",
   "id": "retired-resource",
   "metadata": {},
   "source": [
    "# 📚 So far:\n",
    "\n",
    "**What we did**\n",
    "- Preliminary cleaning of the lyrics\n",
    "- Tokenized to keep just the words\n",
    "- Translated to remove stop words\n",
    "- Analyzed the sentiment\n",
    "<br>\n",
    "\n",
    "**To remember**\n",
    "\n",
    "- There's so much more you can do with this"
   ]
  }
 ],
 "metadata": {
  "kernelspec": {
   "display_name": "Python 3",
   "language": "python",
   "name": "python3"
  },
  "language_info": {
   "codemirror_mode": {
    "name": "ipython",
    "version": 3
   },
   "file_extension": ".py",
   "mimetype": "text/x-python",
   "name": "python",
   "nbconvert_exporter": "python",
   "pygments_lexer": "ipython3",
   "version": "3.9.1"
  }
 },
 "nbformat": 4,
 "nbformat_minor": 5
}
