{
 "cells": [
  {
   "cell_type": "markdown",
   "id": "yellow-highway",
   "metadata": {},
   "source": [
    "## 0. Importing"
   ]
  },
  {
   "cell_type": "code",
   "execution_count": null,
   "id": "thorough-hardware",
   "metadata": {},
   "outputs": [],
   "source": [
    "import os\n",
    "import json\n",
    "import requests\n",
    "from dotenv import load_dotenv\n",
    "load_dotenv()"
   ]
  },
  {
   "cell_type": "markdown",
   "id": "roman-shoulder",
   "metadata": {},
   "source": [
    "## 1. Go to the Spotify API site"
   ]
  },
  {
   "cell_type": "markdown",
   "id": "representative-henry",
   "metadata": {},
   "source": [
    "https://developer.spotify.com/dashboard/applications"
   ]
  },
  {
   "cell_type": "markdown",
   "id": "wired-wisdom",
   "metadata": {},
   "source": [
    "### 2. Get CLIENT_ID & CLIENT_SECRET "
   ]
  },
  {
   "cell_type": "markdown",
   "id": "exciting-viewer",
   "metadata": {},
   "source": [
    "Save them in a `.env` file"
   ]
  },
  {
   "cell_type": "code",
   "execution_count": null,
   "id": "driven-vermont",
   "metadata": {},
   "outputs": [],
   "source": [
    "CLIENT_ID=\"xxx\"\n",
    "CLIENT_SECRET=\"xxx\""
   ]
  },
  {
   "cell_type": "code",
   "execution_count": null,
   "id": "naked-scale",
   "metadata": {},
   "outputs": [],
   "source": [
    "file = open(\".env\", \"a\")\n",
    "file.write(f\"CLIENT_ID={CLIENT_ID}\\n\")\n",
    "file.write(f\"CLIENT_SECRET={CLIENT_SECRET}\\n\")\n",
    "file.close()"
   ]
  },
  {
   "cell_type": "markdown",
   "id": "quantitative-intelligence",
   "metadata": {},
   "source": [
    "### 3. GET TOKENS"
   ]
  },
  {
   "cell_type": "code",
   "execution_count": null,
   "id": "worst-fleece",
   "metadata": {},
   "outputs": [],
   "source": [
    "def spotifyToken():\n",
    "\n",
    "    CLIENT_ID = os.getenv(\"CLIENT_ID\")\n",
    "    CLIENT_SECRET = os.getenv(\"CLIENT_SECRET\")\n",
    "\n",
    "    grant_type = 'client_credentials'\n",
    "    body_params = {'grant_type' : grant_type}\n",
    "\n",
    "    url='https://accounts.spotify.com/api/token'\n",
    "    response = requests.post(url, data=body_params, auth = (CLIENT_ID, CLIENT_SECRET), verify=False) \n",
    "\n",
    "    token_raw = json.loads(response.text)\n",
    "    try:\n",
    "        token = token_raw['access_token']\n",
    "        return token\n",
    "    except:\n",
    "        return token_raw"
   ]
  },
  {
   "cell_type": "code",
   "execution_count": null,
   "id": "international-helena",
   "metadata": {},
   "outputs": [],
   "source": [
    "#spotifyToken()"
   ]
  },
  {
   "cell_type": "markdown",
   "id": "demanding-constitutional",
   "metadata": {},
   "source": [
    "## 4. Save token in the .env file"
   ]
  },
  {
   "cell_type": "code",
   "execution_count": null,
   "id": "ethical-generator",
   "metadata": {},
   "outputs": [],
   "source": [
    "file = open(\".env\", \"a\")\n",
    "file.write(f\"token={spotifyToken()}\")\n",
    "file.close()"
   ]
  }
 ],
 "metadata": {
  "kernelspec": {
   "display_name": "Python 3",
   "language": "python",
   "name": "python3"
  },
  "language_info": {
   "codemirror_mode": {
    "name": "ipython",
    "version": 3
   },
   "file_extension": ".py",
   "mimetype": "text/x-python",
   "name": "python",
   "nbconvert_exporter": "python",
   "pygments_lexer": "ipython3",
   "version": "3.9.1"
  }
 },
 "nbformat": 4,
 "nbformat_minor": 5
}
